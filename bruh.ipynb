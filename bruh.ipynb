{
 "cells": [
  {
   "cell_type": "code",
   "execution_count": 102,
   "metadata": {},
   "outputs": [
    {
     "name": "stdout",
     "output_type": "stream",
     "text": [
      "<class 'gym.envs.classic_control.continuous_mountain_car.Continuous_MountainCarEnv'>\n",
      "[ datasets/buffer ] Finalized replay buffer | 610 episodes\n",
      "[ datasets/buffer ] Fields:\n",
      "    rewards: (610, 1000, 1)\n",
      "    terminals: (610, 1000, 1)\n",
      "    observations: (610, 1000, 2)\n",
      "    actions: (610, 1000, 1)\n",
      "    normed_observations: (610, 1000, 2)\n",
      "    normed_actions: (610, 1000, 1)\n"
     ]
    }
   ],
   "source": [
    "from pyvirtualdisplay import Display\n",
    "import copy\n",
    "virtual_display = Display(visible=0, size=(1400, 900))\n",
    "virtual_display.start()\n",
    "\n",
    "import numpy as np\n",
    "np.set_printoptions(precision=4, suppress=True)\n",
    "\n",
    "\n",
    "from diffuser.models.temporal import TemporalUnet\n",
    "from diffuser.utils.arrays import report_parameters\n",
    "from diffuser.datasets.sequence import SequenceDataset\n",
    "import torch.utils.data as tdata\n",
    "import pytorch_lightning as pl\n",
    "import gym\n",
    "import matplotlib.pyplot as plt\n",
    "import PIL\n",
    "from PIL import Image, ImageOps, ImageChops\n",
    "\n",
    "# from diffuser.datasets import sequence_dataset\n",
    "\n",
    "import pickle\n",
    "\n",
    "dataset = pickle.load(open(\"mc.pkl\", \"rb\"))\n",
    "\n",
    "\n",
    "# class MountainCarDataModule(pl.LightningDataModule):\n",
    "#     def __init__(self, train_transforms=None, val_transforms=None, test_transforms=None, dims=None):\n",
    "#         super().__init__(train_transforms, val_transforms, test_transforms, dims)\n",
    "\n",
    "#     def prepare_data(self) -> None:\n",
    "\n",
    "#         return super().prepare_data()\n",
    "env = gym.make(\"MountainCarContinuous-v0\")\n",
    "d = SequenceDataset(ds=dataset, env=\"MountainCarContinuous-v0\")\n",
    "ld = tdata.DataLoader(d, batch_size=3, num_workers=1, shuffle=False, pin_memory=True)\n",
    "\n",
    "# # model = TemporalUnet(64, 3, 2, 1, dim_mults=(1, 2))\n",
    "# # print(model)\n",
    "# # report_parameters(model)\n",
    "\n",
    "\n",
    "def cycle(dl):\n",
    "    while True:\n",
    "        for data in dl:\n",
    "            yield data\n",
    "\n",
    "\n",
    "batch = next(cycle(ld))\n",
    "traj = batch.trajectories[0]\n",
    "\n",
    "env.unwrapped.state = traj[0, 1:]\n",
    "\n",
    "\n"
   ]
  },
  {
   "cell_type": "code",
   "execution_count": 98,
   "metadata": {},
   "outputs": [
    {
     "data": {
      "text/plain": [
       "{'rewards': array([-0.0066, -0.    , -0.0113, ..., -0.0091, -0.0088, 99.9999]),\n",
       " 'terminals': array([False, False, False, ..., False, False,  True]),\n",
       " 'observations': array([[-0.5371,  0.    ],\n",
       "        [-0.5374, -0.0003],\n",
       "        [-0.5376, -0.0002],\n",
       "        ...,\n",
       "        [ 0.3899,  0.0216],\n",
       "        [ 0.411 ,  0.0211],\n",
       "        [ 0.4317,  0.0207]]),\n",
       " 'actions': array([[-0.2568],\n",
       "        [-0.0085],\n",
       "        [-0.3357],\n",
       "        ...,\n",
       "        [ 0.3017],\n",
       "        [ 0.2966],\n",
       "        [-0.0307]], dtype=float32)}"
      ]
     },
     "execution_count": 98,
     "metadata": {},
     "output_type": "execute_result"
    }
   ],
   "source": [
    "dataset"
   ]
  },
  {
   "cell_type": "code",
   "execution_count": 23,
   "metadata": {},
   "outputs": [
    {
     "data": {
      "text/plain": [
       "tensor([[-0.1973, -0.1965,  0.0253],\n",
       "        [-0.0804, -0.1968,  0.0212],\n",
       "        [-0.2344, -0.1971,  0.0225],\n",
       "        [ 0.1335, -0.1978,  0.0167],\n",
       "        [-0.0847, -0.1976,  0.0281],\n",
       "        [ 0.0794, -0.1972,  0.0293],\n",
       "        [ 0.0311, -0.1962,  0.0381],\n",
       "        [-0.1262, -0.1946,  0.0446],\n",
       "        [-0.1284, -0.1931,  0.0436],\n",
       "        [-0.2555, -0.1917,  0.0423],\n",
       "        [-0.2873, -0.1909,  0.0350],\n",
       "        [-0.1058, -0.1908,  0.0261],\n",
       "        [ 0.0020, -0.1908,  0.0257],\n",
       "        [-0.0325, -0.1903,  0.0304],\n",
       "        [-0.0593, -0.1897,  0.0334],\n",
       "        [-0.1596, -0.1889,  0.0350],\n",
       "        [-0.0316, -0.1883,  0.0319],\n",
       "        [-0.1436, -0.1875,  0.0348],\n",
       "        [-0.2501, -0.1870,  0.0323],\n",
       "        [-0.1033, -0.1870,  0.0248],\n",
       "        [-0.2213, -0.1871,  0.0242],\n",
       "        [-0.1034, -0.1877,  0.0181],\n",
       "        [-0.1169, -0.1883,  0.0175],\n",
       "        [ 0.0281, -0.1891,  0.0164],\n",
       "        [ 0.1275, -0.1893,  0.0221],\n",
       "        [-0.0005, -0.1887,  0.0324],\n",
       "        [ 0.0519, -0.1878,  0.0368],\n",
       "        [-0.0422, -0.1863,  0.0435],\n",
       "        [ 0.0213, -0.1846,  0.0456],\n",
       "        [ 0.0728, -0.1825,  0.0506],\n",
       "        [ 0.0700, -0.1798,  0.0578],\n",
       "        [ 0.1685, -0.1766,  0.0646],\n",
       "        [ 0.1373, -0.1724,  0.0757],\n",
       "        [ 0.1395, -0.1675,  0.0850],\n",
       "        [ 0.0858, -0.1618,  0.0940],\n",
       "        [ 0.0637, -0.1556,  0.0999],\n",
       "        [-0.0577, -0.1491,  0.1042],\n",
       "        [ 0.0299, -0.1427,  0.1023],\n",
       "        [ 0.0692, -0.1362,  0.1039],\n",
       "        [ 0.1491, -0.1295,  0.1067],\n",
       "        [ 0.2826, -0.1222,  0.1127],\n",
       "        [ 0.3186, -0.1141,  0.1242],\n",
       "        [ 0.3507, -0.1048,  0.1367],\n",
       "        [ 0.3319, -0.0945,  0.1499],\n",
       "        [ 0.3400, -0.0833,  0.1613],\n",
       "        [ 0.3210, -0.0711,  0.1720],\n",
       "        [ 0.2411, -0.0583,  0.1808],\n",
       "        [ 0.1827, -0.0451,  0.1848],\n",
       "        [ 0.1634, -0.0319,  0.1849],\n",
       "        [ 0.0878, -0.0188,  0.1830],\n",
       "        [ 0.2163, -0.0063,  0.1764],\n",
       "        [ 0.1749,  0.0061,  0.1748],\n",
       "        [ 0.2265,  0.0181,  0.1703],\n",
       "        [ 0.2163,  0.0298,  0.1672],\n",
       "        [-0.0021,  0.0412,  0.1627],\n",
       "        [-0.0286,  0.0512,  0.1471],\n",
       "        [ 0.0058,  0.0599,  0.1295],\n",
       "        [-0.2041,  0.0671,  0.1128],\n",
       "        [-0.2875,  0.0721,  0.0858],\n",
       "        [-0.2746,  0.0745,  0.0546],\n",
       "        [-0.4072,  0.0744,  0.0238],\n",
       "        [-0.3868,  0.0712, -0.0133],\n",
       "        [-0.3400,  0.0651, -0.0491],\n",
       "        [-0.3424,  0.0562, -0.0823]])"
      ]
     },
     "execution_count": 23,
     "metadata": {},
     "output_type": "execute_result"
    }
   ],
   "source": [
    "traj"
   ]
  },
  {
   "cell_type": "code",
   "execution_count": 185,
   "metadata": {},
   "outputs": [],
   "source": [
    "STOP = 617\n",
    "\n",
    "render_env = gym.wrappers.Monitor(env, \"test\", force=True)\n",
    "render_env.reset()\n",
    "render_env.state = render_env.unwrapped.state = render_env.unwrapped.unwrapped.state = copy.deepcopy(Z[0, 1:])\n",
    "prev_obs = Z[0, 1:]\n",
    "recorded = []\n",
    "for _, i in enumerate(Z[:STOP]):\n",
    "    act = i[:1]\n",
    "    obs, rew, done, info =render_env.step(act)\n",
    "    if done:\n",
    "        break\n",
    "    recorded.append(np.concatenate([act, prev_obs]))\n",
    "    prev_obs = obs\n",
    "\n",
    "render_env.close()\n",
    "recorded = np.array(recorded)"
   ]
  },
  {
   "cell_type": "code",
   "execution_count": null,
   "metadata": {},
   "outputs": [],
   "source": [
    "\n"
   ]
  },
  {
   "cell_type": "code",
   "execution_count": 186,
   "metadata": {},
   "outputs": [
    {
     "data": {
      "text/plain": [
       "True"
      ]
     },
     "execution_count": 186,
     "metadata": {},
     "output_type": "execute_result"
    }
   ],
   "source": [
    "np.all(Z[:STOP] == recorded)"
   ]
  },
  {
   "cell_type": "code",
   "execution_count": 179,
   "metadata": {},
   "outputs": [
    {
     "data": {
      "text/plain": [
       "array([[ True,  True,  True],\n",
       "       [ True,  True,  True],\n",
       "       [ True,  True,  True],\n",
       "       [ True,  True,  True],\n",
       "       [ True,  True,  True],\n",
       "       [ True,  True,  True],\n",
       "       [ True,  True,  True],\n",
       "       [ True,  True,  True],\n",
       "       [ True,  True,  True],\n",
       "       [ True,  True,  True],\n",
       "       [ True,  True,  True],\n",
       "       [ True,  True,  True],\n",
       "       [ True,  True,  True],\n",
       "       [ True,  True,  True],\n",
       "       [ True,  True,  True],\n",
       "       [ True,  True,  True],\n",
       "       [ True,  True,  True],\n",
       "       [ True,  True,  True],\n",
       "       [ True,  True,  True],\n",
       "       [ True,  True,  True],\n",
       "       [ True,  True,  True],\n",
       "       [ True,  True,  True],\n",
       "       [ True,  True,  True],\n",
       "       [ True,  True,  True],\n",
       "       [ True,  True,  True],\n",
       "       [ True,  True,  True],\n",
       "       [ True,  True,  True],\n",
       "       [ True,  True,  True],\n",
       "       [ True,  True,  True],\n",
       "       [ True,  True,  True],\n",
       "       [ True,  True,  True],\n",
       "       [ True,  True,  True],\n",
       "       [ True,  True,  True],\n",
       "       [ True,  True,  True],\n",
       "       [ True,  True,  True],\n",
       "       [ True,  True,  True],\n",
       "       [ True,  True,  True],\n",
       "       [ True,  True,  True],\n",
       "       [ True,  True,  True],\n",
       "       [ True,  True,  True],\n",
       "       [ True,  True,  True],\n",
       "       [ True,  True,  True],\n",
       "       [ True,  True,  True],\n",
       "       [ True,  True,  True],\n",
       "       [ True,  True,  True],\n",
       "       [ True,  True,  True],\n",
       "       [ True,  True,  True],\n",
       "       [ True,  True,  True],\n",
       "       [ True,  True,  True],\n",
       "       [ True,  True,  True],\n",
       "       [ True,  True,  True],\n",
       "       [ True,  True,  True],\n",
       "       [ True,  True,  True],\n",
       "       [ True,  True,  True],\n",
       "       [ True,  True,  True],\n",
       "       [ True,  True,  True],\n",
       "       [ True,  True,  True],\n",
       "       [ True,  True,  True],\n",
       "       [ True,  True,  True],\n",
       "       [ True,  True,  True],\n",
       "       [ True,  True,  True],\n",
       "       [ True,  True,  True],\n",
       "       [ True,  True,  True],\n",
       "       [ True,  True,  True]])"
      ]
     },
     "execution_count": 179,
     "metadata": {},
     "output_type": "execute_result"
    }
   ],
   "source": [
    "Z[:64] == recorded"
   ]
  },
  {
   "cell_type": "code",
   "execution_count": 181,
   "metadata": {},
   "outputs": [
    {
     "name": "stdout",
     "output_type": "stream",
     "text": [
      "617\n"
     ]
    }
   ],
   "source": [
    "\n",
    "for i in range(len(dataset['terminals'])):\n",
    "    if dataset['terminals'][i]:\n",
    "        print(i)\n",
    "        break"
   ]
  },
  {
   "cell_type": "code",
   "execution_count": 174,
   "metadata": {},
   "outputs": [],
   "source": [
    "Z = np.hstack([dataset['actions'], dataset['observations']])"
   ]
  }
 ],
 "metadata": {
  "kernelspec": {
   "display_name": "Python 3",
   "language": "python",
   "name": "python3"
  },
  "orig_nbformat": 4,
  "vscode": {
   "interpreter": {
    "hash": "463b5119c43f1228ef24c167e687d73dd1a5a31622db1f57d53a19b110fb4536"
   }
  }
 },
 "nbformat": 4,
 "nbformat_minor": 2
}
